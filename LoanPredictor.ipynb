{
  "nbformat": 4,
  "nbformat_minor": 0,
  "metadata": {
    "colab": {
      "name": "Untitled0.ipynb",
      "provenance": [],
      "authorship_tag": "ABX9TyNlpr38VHR/DgoH1rqDCh0i",
      "include_colab_link": true
    },
    "kernelspec": {
      "name": "python3",
      "display_name": "Python 3"
    },
    "language_info": {
      "name": "python"
    }
  },
  "cells": [
    {
      "cell_type": "markdown",
      "metadata": {
        "id": "view-in-github",
        "colab_type": "text"
      },
      "source": [
        "<a href=\"https://colab.research.google.com/github/PasanAbeysekara/DataScience/blob/main/LoanPredictor.ipynb\" target=\"_parent\"><img src=\"https://colab.research.google.com/assets/colab-badge.svg\" alt=\"Open In Colab\"/></a>"
      ]
    },
    {
      "cell_type": "code",
      "source": [
        "import numpy as np\n",
        "import pandas as pd "
      ],
      "metadata": {
        "id": "QU6rpAAuRard"
      },
      "execution_count": null,
      "outputs": []
    },
    {
      "cell_type": "code",
      "source": [
        "import os\n",
        "for dirname, _, filenames in os.walk('/content/LoanData'):\n",
        "    for filename in filenames:\n",
        "        print(os.path.join(dirname, filename))"
      ],
      "metadata": {
        "id": "-UgaRWj3RdOC"
      },
      "execution_count": null,
      "outputs": []
    },
    {
      "cell_type": "code",
      "source": [
        "from sklearn.compose import ColumnTransformer\n",
        "from sklearn.impute import SimpleImputer\n",
        "from sklearn.preprocessing import OneHotEncoder\n",
        "from sklearn.pipeline import Pipeline"
      ],
      "metadata": {
        "id": "2R2komAGRggn"
      },
      "execution_count": null,
      "outputs": []
    },
    {
      "cell_type": "markdown",
      "source": [
        "Data"
      ],
      "metadata": {
        "id": "bA4Y2-_oU2mr"
      }
    },
    {
      "cell_type": "code",
      "source": [
        "df = pd.read_csv(\"/content/LoadData/loan.csv\")"
      ],
      "metadata": {
        "colab": {
          "base_uri": "https://localhost:8080/"
        },
        "id": "7pUtqJXTCG7c",
        "outputId": "b55527ae-24b6-4f63-e4aa-36ad00f7435e"
      },
      "execution_count": null,
      "outputs": [
        {
          "output_type": "stream",
          "name": "stderr",
          "text": [
            "/usr/local/lib/python3.7/dist-packages/IPython/core/interactiveshell.py:2718: DtypeWarning: Columns (47) have mixed types.Specify dtype option on import or set low_memory=False.\n",
            "  interactivity=interactivity, compiler=compiler, result=result)\n"
          ]
        }
      ]
    },
    {
      "cell_type": "code",
      "source": [
        "df[\"loan_status\"].replace(\"Fully Paid\",1,inplace=True)\n",
        "df[\"loan_status\"].replace(\"Current\",1,inplace=True)\n",
        "df[\"loan_status\"].replace(\"Charged Off\",0,inplace=True)"
      ],
      "metadata": {
        "id": "a-pbzRmmP2HT"
      },
      "execution_count": null,
      "outputs": []
    },
    {
      "cell_type": "code",
      "source": [
        "from sklearn.model_selection import train_test_split\n",
        "\n",
        "df_train, df_test = train_test_split(df, test_size=0.2)"
      ],
      "metadata": {
        "id": "FWpqkUpZCHqE"
      },
      "execution_count": null,
      "outputs": []
    },
    {
      "cell_type": "markdown",
      "source": [
        "remove null"
      ],
      "metadata": {
        "id": "4JemVccSIrE2"
      }
    },
    {
      "cell_type": "code",
      "source": [
        "null_cols = []\n",
        "for col in df.columns:\n",
        "  print(col,df[col].isna().sum())\n",
        "  if(df[col].isna().sum()>1000):\n",
        "    null_cols.append(col)\n",
        "  \n",
        "df = df.drop(null_cols,axis=1)\n",
        "\n",
        "df.dropna(inplace=True)"
      ],
      "metadata": {
        "colab": {
          "base_uri": "https://localhost:8080/"
        },
        "id": "n_6wzXIADnGF",
        "outputId": "3e5d3571-c947-4ec4-de1e-05c105df7736"
      },
      "execution_count": null,
      "outputs": [
        {
          "output_type": "stream",
          "name": "stdout",
          "text": [
            "id 0\n",
            "member_id 0\n",
            "loan_amnt 0\n",
            "funded_amnt 0\n",
            "funded_amnt_inv 0\n",
            "term 0\n",
            "int_rate 0\n",
            "installment 0\n",
            "grade 0\n",
            "sub_grade 0\n",
            "emp_title 2459\n",
            "emp_length 1075\n",
            "home_ownership 0\n",
            "annual_inc 0\n",
            "verification_status 0\n",
            "issue_d 0\n",
            "loan_status 0\n",
            "pymnt_plan 0\n",
            "url 0\n",
            "desc 12940\n",
            "purpose 0\n",
            "title 11\n",
            "zip_code 0\n",
            "addr_state 0\n",
            "dti 0\n",
            "delinq_2yrs 0\n",
            "earliest_cr_line 0\n",
            "inq_last_6mths 0\n",
            "mths_since_last_delinq 25682\n",
            "mths_since_last_record 36931\n",
            "open_acc 0\n",
            "pub_rec 0\n",
            "revol_bal 0\n",
            "revol_util 50\n",
            "total_acc 0\n",
            "initial_list_status 0\n",
            "out_prncp 0\n",
            "out_prncp_inv 0\n",
            "total_pymnt 0\n",
            "total_pymnt_inv 0\n",
            "total_rec_prncp 0\n",
            "total_rec_int 0\n",
            "total_rec_late_fee 0\n",
            "recoveries 0\n",
            "collection_recovery_fee 0\n",
            "last_pymnt_d 71\n",
            "last_pymnt_amnt 0\n",
            "next_pymnt_d 38577\n",
            "last_credit_pull_d 2\n",
            "collections_12_mths_ex_med 56\n",
            "mths_since_last_major_derog 39717\n",
            "policy_code 0\n",
            "application_type 0\n",
            "annual_inc_joint 39717\n",
            "dti_joint 39717\n",
            "verification_status_joint 39717\n",
            "acc_now_delinq 0\n",
            "tot_coll_amt 39717\n",
            "tot_cur_bal 39717\n",
            "open_acc_6m 39717\n",
            "open_il_6m 39717\n",
            "open_il_12m 39717\n",
            "open_il_24m 39717\n",
            "mths_since_rcnt_il 39717\n",
            "total_bal_il 39717\n",
            "il_util 39717\n",
            "open_rv_12m 39717\n",
            "open_rv_24m 39717\n",
            "max_bal_bc 39717\n",
            "all_util 39717\n",
            "total_rev_hi_lim 39717\n",
            "inq_fi 39717\n",
            "total_cu_tl 39717\n",
            "inq_last_12m 39717\n",
            "acc_open_past_24mths 39717\n",
            "avg_cur_bal 39717\n",
            "bc_open_to_buy 39717\n",
            "bc_util 39717\n",
            "chargeoff_within_12_mths 56\n",
            "delinq_amnt 0\n",
            "mo_sin_old_il_acct 39717\n",
            "mo_sin_old_rev_tl_op 39717\n",
            "mo_sin_rcnt_rev_tl_op 39717\n",
            "mo_sin_rcnt_tl 39717\n",
            "mort_acc 39717\n",
            "mths_since_recent_bc 39717\n",
            "mths_since_recent_bc_dlq 39717\n",
            "mths_since_recent_inq 39717\n",
            "mths_since_recent_revol_delinq 39717\n",
            "num_accts_ever_120_pd 39717\n",
            "num_actv_bc_tl 39717\n",
            "num_actv_rev_tl 39717\n",
            "num_bc_sats 39717\n",
            "num_bc_tl 39717\n",
            "num_il_tl 39717\n",
            "num_op_rev_tl 39717\n",
            "num_rev_accts 39717\n",
            "num_rev_tl_bal_gt_0 39717\n",
            "num_sats 39717\n",
            "num_tl_120dpd_2m 39717\n",
            "num_tl_30dpd 39717\n",
            "num_tl_90g_dpd_24m 39717\n",
            "num_tl_op_past_12m 39717\n",
            "pct_tl_nvr_dlq 39717\n",
            "percent_bc_gt_75 39717\n",
            "pub_rec_bankruptcies 697\n",
            "tax_liens 39\n",
            "tot_hi_cred_lim 39717\n",
            "total_bal_ex_mort 39717\n",
            "total_bc_limit 39717\n",
            "total_il_high_credit_limit 39717\n"
          ]
        }
      ]
    },
    {
      "cell_type": "markdown",
      "source": [
        "data continue"
      ],
      "metadata": {
        "id": "WUmFtKQNNkzh"
      }
    },
    {
      "cell_type": "code",
      "source": [
        "# df_train = pd.read_csv(\"../content/titanic/train.csv\")\n",
        "\n",
        "# df_test = pd.read_csv('../content/titanic/test.csv')\n",
        "\n",
        "y = df_train['loan_status']\n",
        "\n",
        "df_train.drop(['loan_status','id','member_id'],axis=1,inplace=True)\n",
        "\n",
        "test_index = df_test['id']\n",
        "df_test.drop(['id','member_id'],axis=1,inplace=True)"
      ],
      "metadata": {
        "id": "D0q0vC_9Rnch"
      },
      "execution_count": null,
      "outputs": []
    },
    {
      "cell_type": "markdown",
      "source": [
        "Define Preprocessing steps"
      ],
      "metadata": {
        "id": "txvplFiIU6-z"
      }
    },
    {
      "cell_type": "code",
      "source": [
        "numerical_cols= df_train.select_dtypes(exclude='object').columns\n",
        "\n",
        "catagorical_cols = df_train.select_dtypes(include='object').columns\n",
        "\n",
        "numerical_transfer = SimpleImputer(strategy='median')\n",
        "\n",
        "catagorical_transfer = Pipeline(steps=\n",
        "                                [\n",
        "                                    ('imputer',SimpleImputer(strategy='most_frequent')),\n",
        "                                    ('onehot',OneHotEncoder(handle_unknown='ignore'))\n",
        "                                ])\n",
        "\n",
        "preprocessor = ColumnTransformer(transformers=\n",
        "                                 [\n",
        "                                     ('num',numerical_transfer,numerical_cols),\n",
        "                                     ('cat',catagorical_transfer,catagorical_cols)\n",
        "                                 ])"
      ],
      "metadata": {
        "id": "HNLlmdk5U6XU"
      },
      "execution_count": null,
      "outputs": []
    },
    {
      "cell_type": "markdown",
      "source": [
        "Define the model"
      ],
      "metadata": {
        "id": "bRCXOdUIVIok"
      }
    },
    {
      "cell_type": "code",
      "source": [
        "from xgboost import XGBRegressor"
      ],
      "metadata": {
        "id": "HgN48wDUU6SE"
      },
      "execution_count": null,
      "outputs": []
    },
    {
      "cell_type": "code",
      "source": [
        "model = XGBRegressor(n_estimators=1000,random_state=0,learning_rate=0.05)\n",
        "\n",
        "my_pipeline =Pipeline(steps = \n",
        "                     [\n",
        "                         ('preprocessor',preprocessor),\n",
        "                         ('model',model)\n",
        "                     ])"
      ],
      "metadata": {
        "id": "ZTnHDiDfU6PO"
      },
      "execution_count": null,
      "outputs": []
    },
    {
      "cell_type": "markdown",
      "source": [
        "Submission"
      ],
      "metadata": {
        "id": "poeF-2AwVOVK"
      }
    },
    {
      "cell_type": "code",
      "source": [
        "my_pipeline.fit(df_train,y)\n",
        "\n",
        "pred = my_pipeline.predict(df_test)\n",
        "\n",
        "output = pd.DataFrame({'id':test_index,\n",
        "                      'loan_status':pred})\n",
        "\n",
        "for id in range(len(output['id'])):\n",
        "  if(output['loan_status'][id]>0.5):\n",
        "    output['loan_status'][id]=1\n",
        "  else:\n",
        "    output['loan_status'][id]=0\n",
        "\n",
        "output.to_csv('xgboost_loan-pred_1.csv',index=False)\n",
        "\n",
        "pd.read_csv('xgboost_loan-pred_1.csv')"
      ],
      "metadata": {
        "id": "5VWjGM9-U6MY"
      },
      "execution_count": null,
      "outputs": []
    },
    {
      "cell_type": "code",
      "source": [
        "df_test.loan_status"
      ],
      "metadata": {
        "colab": {
          "base_uri": "https://localhost:8080/"
        },
        "id": "BZVGN92zROTc",
        "outputId": "4eda0db7-b701-4c8d-ef46-27be5b487f2a"
      },
      "execution_count": null,
      "outputs": [
        {
          "output_type": "execute_result",
          "data": {
            "text/plain": [
              "32868    0\n",
              "10387    1\n",
              "32431    1\n",
              "25256    1\n",
              "38487    1\n",
              "        ..\n",
              "5333     1\n",
              "27886    1\n",
              "6811     0\n",
              "7942     1\n",
              "911      0\n",
              "Name: loan_status, Length: 7944, dtype: int64"
            ]
          },
          "metadata": {},
          "execution_count": 13
        }
      ]
    },
    {
      "cell_type": "code",
      "source": [
        "output = pd.read_csv('/content/xgboost_loan-pred_1.csv')"
      ],
      "metadata": {
        "id": "E7KOL6weYJj4"
      },
      "execution_count": null,
      "outputs": []
    },
    {
      "cell_type": "code",
      "source": [
        "output.loan_status"
      ],
      "metadata": {
        "colab": {
          "base_uri": "https://localhost:8080/"
        },
        "id": "q_9ZjO4JROQd",
        "outputId": "9e6a8985-035f-4fa9-a482-56010725d233"
      },
      "execution_count": null,
      "outputs": [
        {
          "output_type": "execute_result",
          "data": {
            "text/plain": [
              "0       1.0\n",
              "1       1.0\n",
              "2       1.0\n",
              "3       1.0\n",
              "4       1.0\n",
              "       ... \n",
              "7939    0.0\n",
              "7940    0.0\n",
              "7941    1.0\n",
              "7942    1.0\n",
              "7943    1.0\n",
              "Name: loan_status, Length: 7944, dtype: float64"
            ]
          },
          "metadata": {},
          "execution_count": 15
        }
      ]
    },
    {
      "cell_type": "code",
      "source": [
        "mergedStuff = pd.merge(df_test, output, on=['loan_status'], how='inner')\n",
        "mergedStuff.head()"
      ],
      "metadata": {
        "id": "1nEgO1CcXi4d"
      },
      "execution_count": null,
      "outputs": []
    },
    {
      "cell_type": "code",
      "source": [
        ""
      ],
      "metadata": {
        "id": "_2XqSrw8Xi0O"
      },
      "execution_count": null,
      "outputs": []
    },
    {
      "cell_type": "code",
      "source": [
        ""
      ],
      "metadata": {
        "id": "ry5zyNfkXixq"
      },
      "execution_count": null,
      "outputs": []
    },
    {
      "cell_type": "code",
      "source": [
        ""
      ],
      "metadata": {
        "id": "WRmVHFoCXiu5"
      },
      "execution_count": null,
      "outputs": []
    },
    {
      "cell_type": "code",
      "source": [
        ""
      ],
      "metadata": {
        "id": "VrXC6lUQXiry"
      },
      "execution_count": null,
      "outputs": []
    },
    {
      "cell_type": "code",
      "source": [
        "from google.colab import drive\n",
        "drive.mount('/content/drive')"
      ],
      "metadata": {
        "id": "6GZ3QbK3SOKg"
      },
      "execution_count": null,
      "outputs": []
    },
    {
      "cell_type": "code",
      "source": [
        ""
      ],
      "metadata": {
        "id": "2zXg4UDGRqYk"
      },
      "execution_count": null,
      "outputs": []
    },
    {
      "cell_type": "code",
      "source": [
        "import numpy as np"
      ],
      "metadata": {
        "id": "h3VA68XYVgvQ"
      },
      "execution_count": null,
      "outputs": []
    },
    {
      "cell_type": "code",
      "source": [
        "df_ = pd.DataFrame([[2, 2], [3, 3]], columns = [\"col1\", \"col2\"])\n",
        "\n",
        "comparison_column = np.where(df_[\"col1\"] == df_[\"col2\"], True, False)"
      ],
      "metadata": {
        "id": "qIy8_7B4T1Mh"
      },
      "execution_count": null,
      "outputs": []
    },
    {
      "cell_type": "code",
      "source": [
        "comparison_column.sum()"
      ],
      "metadata": {
        "colab": {
          "base_uri": "https://localhost:8080/"
        },
        "id": "t5Jp0MS5WWOw",
        "outputId": "7a8af5e5-4bd9-4fa0-c621-d885afb1d206"
      },
      "execution_count": null,
      "outputs": [
        {
          "output_type": "execute_result",
          "data": {
            "text/plain": [
              "2"
            ]
          },
          "metadata": {},
          "execution_count": 171
        }
      ]
    },
    {
      "cell_type": "code",
      "source": [
        ""
      ],
      "metadata": {
        "id": "9QGq-svkWQt0"
      },
      "execution_count": null,
      "outputs": []
    }
  ]
}